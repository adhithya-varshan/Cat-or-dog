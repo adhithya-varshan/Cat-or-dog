{
 "cells": [
  {
   "cell_type": "code",
   "execution_count": 1,
   "metadata": {
    "id": "-9A6hBqvNXk5"
   },
   "outputs": [],
   "source": [
    "import tensorflow as tf\n",
    "from keras.preprocessing.image import ImageDataGenerator"
   ]
  },
  {
   "cell_type": "code",
   "execution_count": 2,
   "metadata": {
    "colab": {
     "base_uri": "https://localhost:8080/",
     "height": 35
    },
    "id": "k3h7EQ9LqXAz",
    "outputId": "fb004f4d-468e-4863-c552-0ffe0b028432"
   },
   "outputs": [
    {
     "data": {
      "text/plain": [
       "'2.6.0'"
      ]
     },
     "execution_count": 2,
     "metadata": {},
     "output_type": "execute_result"
    }
   ],
   "source": [
    "tf.__version__"
   ]
  },
  {
   "cell_type": "markdown",
   "metadata": {
    "id": "2GgIyt3hyRvm"
   },
   "source": [
    "**train** **preprocessing**"
   ]
  },
  {
   "cell_type": "code",
   "execution_count": 3,
   "metadata": {
    "id": "zPHY4eT8sQeK"
   },
   "outputs": [
    {
     "name": "stdout",
     "output_type": "stream",
     "text": [
      "Found 8000 images belonging to 2 classes.\n"
     ]
    }
   ],
   "source": [
    "train_datagen = ImageDataGenerator(\n",
    "        rescale=1./255,\n",
    "        shear_range=0.2,\n",
    "        zoom_range=0.2,\n",
    "        horizontal_flip=True)\n",
    "training_set = train_datagen.flow_from_directory(\n",
    "        'dataset/training_set',\n",
    "        target_size=(64, 64),\n",
    "        batch_size=32,\n",
    "        class_mode='binary')\n"
   ]
  },
  {
   "cell_type": "markdown",
   "metadata": {
    "id": "bXXstpsFycbV"
   },
   "source": [
    "**test** **preprocessing**"
   ]
  },
  {
   "cell_type": "code",
   "execution_count": 4,
   "metadata": {
    "id": "9WazwNn8yQKK"
   },
   "outputs": [
    {
     "name": "stdout",
     "output_type": "stream",
     "text": [
      "Found 2000 images belonging to 2 classes.\n"
     ]
    }
   ],
   "source": [
    "test_datagen = ImageDataGenerator(rescale=1./255)\n",
    "test_set = test_datagen.flow_from_directory(\n",
    "        'dataset/test_set',\n",
    "        target_size=(64, 64),\n",
    "        batch_size=32,\n",
    "        class_mode='binary')"
   ]
  },
  {
   "cell_type": "markdown",
   "metadata": {
    "id": "hxD4Tb5bzMii"
   },
   "source": [
    "**building** **cnn**"
   ]
  },
  {
   "cell_type": "code",
   "execution_count": 5,
   "metadata": {
    "id": "USFlmiUbzR8a"
   },
   "outputs": [],
   "source": [
    "cnn = tf.keras.models.Sequential()"
   ]
  },
  {
   "cell_type": "markdown",
   "metadata": {
    "id": "CFveEi_4vPXL"
   },
   "source": [
    "**convolution**"
   ]
  },
  {
   "cell_type": "code",
   "execution_count": 6,
   "metadata": {
    "id": "NVDyerdNvP4B"
   },
   "outputs": [],
   "source": [
    "cnn.add(tf.keras.layers.Conv2D(filters = 32 ,kernel_size = 3,activation= \"relu\",input_shape = [64,64,3]))"
   ]
  },
  {
   "cell_type": "markdown",
   "metadata": {
    "id": "5g7YCxPtvQKn"
   },
   "source": [
    "**pooling**"
   ]
  },
  {
   "cell_type": "code",
   "execution_count": 7,
   "metadata": {
    "id": "yVTH0_NdvQZA"
   },
   "outputs": [],
   "source": [
    "cnn.add(tf.keras.layers.MaxPool2D(pool_size=2,strides = 2))"
   ]
  },
  {
   "cell_type": "markdown",
   "metadata": {
    "id": "XFD-cUxmvQlA"
   },
   "source": [
    "***second*** **layer** of **convolution**"
   ]
  },
  {
   "cell_type": "code",
   "execution_count": 8,
   "metadata": {
    "id": "Z4t-ucOTvQv0"
   },
   "outputs": [],
   "source": [
    "cnn.add(tf.keras.layers.Conv2D(filters = 32 ,kernel_size = 3,activation= \"relu\"))\n",
    "cnn.add(tf.keras.layers.MaxPool2D(pool_size=2,strides = 2))"
   ]
  },
  {
   "cell_type": "markdown",
   "metadata": {
    "id": "-4gup8givQ5O"
   },
   "source": [
    "**flattening**"
   ]
  },
  {
   "cell_type": "code",
   "execution_count": 9,
   "metadata": {
    "id": "kh7EsRtSvRC2"
   },
   "outputs": [],
   "source": [
    "cnn.add(tf.keras.layers.Flatten())"
   ]
  },
  {
   "cell_type": "markdown",
   "metadata": {
    "id": "uT_0BgvYvRNT"
   },
   "source": [
    "**full** **connection**"
   ]
  },
  {
   "cell_type": "code",
   "execution_count": 10,
   "metadata": {
    "id": "tRpBA4dgvRWz"
   },
   "outputs": [],
   "source": [
    "cnn.add(tf.keras.layers.Dense(units = 128,activation = 'relu'))"
   ]
  },
  {
   "cell_type": "markdown",
   "metadata": {
    "id": "zPFN7a261NI0"
   },
   "source": [
    "**Output** **layer**"
   ]
  },
  {
   "cell_type": "code",
   "execution_count": 11,
   "metadata": {
    "id": "H70baW6y1QM9"
   },
   "outputs": [],
   "source": [
    "cnn.add(tf.keras.layers.Dense(units = 1,activation = 'sigmoid'))"
   ]
  },
  {
   "cell_type": "markdown",
   "metadata": {
    "id": "K5LjyfTW6u3b"
   },
   "source": [
    "**compiling** **cnn**"
   ]
  },
  {
   "cell_type": "code",
   "execution_count": 12,
   "metadata": {
    "id": "-Hm1wGYB6slh"
   },
   "outputs": [],
   "source": [
    "cnn.compile(optimizer = 'adam',loss = 'binary_crossentropy',metrics = ['accuracy'])"
   ]
  },
  {
   "cell_type": "markdown",
   "metadata": {
    "id": "hW22CD0o62gp"
   },
   "source": [
    "**training** **the** **cnn** **and** **evaluating** ***it*** **on** ***the*** **test** **set**"
   ]
  },
  {
   "cell_type": "code",
   "execution_count": 13,
   "metadata": {
    "id": "vxYVb6L-7DTH"
   },
   "outputs": [
    {
     "name": "stdout",
     "output_type": "stream",
     "text": [
      "Epoch 1/25\n",
      "250/250 [==============================] - 200s 793ms/step - loss: 0.6773 - accuracy: 0.5655 - val_loss: 0.6304 - val_accuracy: 0.6550\n",
      "Epoch 2/25\n",
      "250/250 [==============================] - 87s 349ms/step - loss: 0.6259 - accuracy: 0.6499 - val_loss: 0.6520 - val_accuracy: 0.6465\n",
      "Epoch 3/25\n",
      "250/250 [==============================] - 69s 275ms/step - loss: 0.5920 - accuracy: 0.6790 - val_loss: 0.6938 - val_accuracy: 0.6380\n",
      "Epoch 4/25\n",
      "250/250 [==============================] - 69s 274ms/step - loss: 0.5549 - accuracy: 0.7180 - val_loss: 0.5307 - val_accuracy: 0.7410\n",
      "Epoch 5/25\n",
      "250/250 [==============================] - 69s 275ms/step - loss: 0.5318 - accuracy: 0.7334 - val_loss: 0.5233 - val_accuracy: 0.7530\n",
      "Epoch 6/25\n",
      "250/250 [==============================] - 69s 275ms/step - loss: 0.5066 - accuracy: 0.7485 - val_loss: 0.5048 - val_accuracy: 0.7640\n",
      "Epoch 7/25\n",
      "250/250 [==============================] - 70s 279ms/step - loss: 0.4864 - accuracy: 0.7621 - val_loss: 0.4988 - val_accuracy: 0.7720\n",
      "Epoch 8/25\n",
      "250/250 [==============================] - 70s 281ms/step - loss: 0.4732 - accuracy: 0.7745 - val_loss: 0.5594 - val_accuracy: 0.7165\n",
      "Epoch 9/25\n",
      "250/250 [==============================] - 70s 280ms/step - loss: 0.4541 - accuracy: 0.7805 - val_loss: 0.4889 - val_accuracy: 0.7680\n",
      "Epoch 10/25\n",
      "250/250 [==============================] - 70s 280ms/step - loss: 0.4399 - accuracy: 0.7960 - val_loss: 0.5046 - val_accuracy: 0.7660\n",
      "Epoch 11/25\n",
      "250/250 [==============================] - 70s 280ms/step - loss: 0.4203 - accuracy: 0.8034 - val_loss: 0.4955 - val_accuracy: 0.7795\n",
      "Epoch 12/25\n",
      "250/250 [==============================] - 70s 281ms/step - loss: 0.4041 - accuracy: 0.8140 - val_loss: 0.4960 - val_accuracy: 0.7825\n",
      "Epoch 13/25\n",
      "250/250 [==============================] - 70s 279ms/step - loss: 0.3886 - accuracy: 0.8239 - val_loss: 0.4781 - val_accuracy: 0.7875\n",
      "Epoch 14/25\n",
      "250/250 [==============================] - 70s 280ms/step - loss: 0.3731 - accuracy: 0.8310 - val_loss: 0.5062 - val_accuracy: 0.7740\n",
      "Epoch 15/25\n",
      "250/250 [==============================] - 70s 279ms/step - loss: 0.3641 - accuracy: 0.8371 - val_loss: 0.4918 - val_accuracy: 0.7845\n",
      "Epoch 16/25\n",
      "250/250 [==============================] - 69s 276ms/step - loss: 0.3449 - accuracy: 0.8466 - val_loss: 0.4733 - val_accuracy: 0.8010\n",
      "Epoch 17/25\n",
      "250/250 [==============================] - 70s 281ms/step - loss: 0.3322 - accuracy: 0.8496 - val_loss: 0.4951 - val_accuracy: 0.8020\n",
      "Epoch 18/25\n",
      "250/250 [==============================] - 69s 275ms/step - loss: 0.3149 - accuracy: 0.8616 - val_loss: 0.5094 - val_accuracy: 0.7880\n",
      "Epoch 19/25\n",
      "250/250 [==============================] - 70s 279ms/step - loss: 0.2917 - accuracy: 0.8764 - val_loss: 0.5163 - val_accuracy: 0.8015\n",
      "Epoch 20/25\n",
      "250/250 [==============================] - 69s 277ms/step - loss: 0.2850 - accuracy: 0.8786 - val_loss: 0.6065 - val_accuracy: 0.7605\n",
      "Epoch 21/25\n",
      "250/250 [==============================] - 69s 277ms/step - loss: 0.2739 - accuracy: 0.8871 - val_loss: 0.5082 - val_accuracy: 0.8000\n",
      "Epoch 22/25\n",
      "250/250 [==============================] - 68s 273ms/step - loss: 0.2505 - accuracy: 0.8954 - val_loss: 0.5319 - val_accuracy: 0.8040\n",
      "Epoch 23/25\n",
      "250/250 [==============================] - 68s 273ms/step - loss: 0.2364 - accuracy: 0.9009 - val_loss: 0.5406 - val_accuracy: 0.7955\n",
      "Epoch 24/25\n",
      "250/250 [==============================] - 70s 280ms/step - loss: 0.2260 - accuracy: 0.9057 - val_loss: 0.5910 - val_accuracy: 0.7935\n",
      "Epoch 25/25\n",
      "250/250 [==============================] - 69s 276ms/step - loss: 0.2151 - accuracy: 0.9128 - val_loss: 0.5772 - val_accuracy: 0.7895\n"
     ]
    },
    {
     "data": {
      "text/plain": [
       "<keras.callbacks.History at 0x1e28ca8af88>"
      ]
     },
     "execution_count": 13,
     "metadata": {},
     "output_type": "execute_result"
    }
   ],
   "source": [
    "cnn.fit(x = training_set,validation_data = test_set,epochs = 25)"
   ]
  },
  {
   "cell_type": "markdown",
   "metadata": {
    "id": "OznYJokE62k3"
   },
   "source": [
    "**making** **single** **predictions**"
   ]
  },
  {
   "cell_type": "code",
   "execution_count": 38,
   "metadata": {
    "id": "F2mJiPw_7Cnz"
   },
   "outputs": [],
   "source": [
    "from keras_preprocessing.image.utils import load_img\n",
    "import numpy as np\n",
    "from keras.preprocessing import image\n",
    "test_image = image.load_img('dataset/single_prediction/katze.jpg',target_size = (64,64))\n",
    "test_image = image.img_to_array(test_image)\n",
    "test_image = np.expand_dims(test_image,axis = 0)\n",
    "result = cnn.predict(test_image)\n",
    "training_set.class_indices\n",
    "if result[0][0] == 1:\n",
    "    prediction = 'Dog'\n",
    "else:\n",
    "    prediction = 'Cat'\n"
   ]
  },
  {
   "cell_type": "code",
   "execution_count": 39,
   "metadata": {
    "id": "veq6KHxaRcBn"
   },
   "outputs": [
    {
     "name": "stdout",
     "output_type": "stream",
     "text": [
      "Dog\n"
     ]
    }
   ],
   "source": [
    "print(prediction)"
   ]
  },
  {
   "cell_type": "code",
   "execution_count": null,
   "metadata": {},
   "outputs": [],
   "source": []
  }
 ],
 "metadata": {
  "colab": {
   "collapsed_sections": [],
   "name": "cnn.ipynb",
   "provenance": []
  },
  "kernelspec": {
   "display_name": "Python 3 (ipykernel)",
   "language": "python",
   "name": "python3"
  },
  "language_info": {
   "codemirror_mode": {
    "name": "ipython",
    "version": 3
   },
   "file_extension": ".py",
   "mimetype": "text/x-python",
   "name": "python",
   "nbconvert_exporter": "python",
   "pygments_lexer": "ipython3",
   "version": "3.9.7"
  }
 },
 "nbformat": 4,
 "nbformat_minor": 1
}
